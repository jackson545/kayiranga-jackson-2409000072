{
  "nbformat": 4,
  "nbformat_minor": 0,
  "metadata": {
    "colab": {
      "provenance": [],
      "authorship_tag": "ABX9TyNir34fEL2a9FDgJlkwFBPW",
      "include_colab_link": true
    },
    "kernelspec": {
      "name": "python3",
      "display_name": "Python 3"
    },
    "language_info": {
      "name": "python"
    }
  },
  "cells": [
    {
      "cell_type": "markdown",
      "metadata": {
        "id": "view-in-github",
        "colab_type": "text"
      },
      "source": [
        "<a href=\"https://colab.research.google.com/github/jackson545/kayiranga-jackson-2409000072/blob/main/Assignment.ipynb\" target=\"_parent\"><img src=\"https://colab.research.google.com/assets/colab-badge.svg\" alt=\"Open In Colab\"/></a>"
      ]
    },
    {
      "cell_type": "code",
      "execution_count": 1,
      "metadata": {
        "colab": {
          "base_uri": "https://localhost:8080/"
        },
        "id": "x6rVimvVNp9C",
        "outputId": "b20fc655-3b58-4f68-e2a7-4f3785e02cd3"
      },
      "outputs": [
        {
          "output_type": "stream",
          "name": "stdout",
          "text": [
            "Requirement already satisfied: cryptography in /usr/local/lib/python3.11/dist-packages (43.0.3)\n",
            "Requirement already satisfied: cffi>=1.12 in /usr/local/lib/python3.11/dist-packages (from cryptography) (1.17.1)\n",
            "Requirement already satisfied: pycparser in /usr/local/lib/python3.11/dist-packages (from cffi>=1.12->cryptography) (2.22)\n"
          ]
        }
      ],
      "source": [
        "!pip install cryptography"
      ]
    },
    {
      "cell_type": "code",
      "source": [
        "from cryptography.fernet import Fernet\n",
        "key = Fernet.generate_key()\n",
        "fernet = Fernet(key)\n",
        "message1 = \"First name\"\n",
        "message2= \"kayiranga\"\n",
        "encrypted_message1 = fernet.encrypt(message1.encode())\n",
        "decrypted_message1 =fernet.decrypt(encrypted_message1)\n",
        "encrypted_message2 = fernet.encrypt(message2.encode())\n",
        "decrypted_message2 =fernet.decrypt(encrypted_message2)\n",
        "print(decrypted_message1.decode())\n",
        "print(decrypted_message2.decode())"
      ],
      "metadata": {
        "colab": {
          "base_uri": "https://localhost:8080/"
        },
        "id": "6a3YZr8ZONX1",
        "outputId": "b89ee8b5-a958-4be6-9054-eb8b5829e901"
      },
      "execution_count": 2,
      "outputs": [
        {
          "output_type": "stream",
          "name": "stdout",
          "text": [
            "First name\n",
            "kayiranga\n"
          ]
        }
      ]
    }
  ]
}
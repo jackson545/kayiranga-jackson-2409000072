{
  "nbformat": 4,
  "nbformat_minor": 0,
  "metadata": {
    "colab": {
      "provenance": [],
      "authorship_tag": "ABX9TyOWQUf3anR/dtt6+BFCpJF0",
      "include_colab_link": true
    },
    "kernelspec": {
      "name": "python3",
      "display_name": "Python 3"
    },
    "language_info": {
      "name": "python"
    }
  },
  "cells": [
    {
      "cell_type": "markdown",
      "metadata": {
        "id": "view-in-github",
        "colab_type": "text"
      },
      "source": [
        "<a href=\"https://colab.research.google.com/github/jackson545/kayiranga-jackson-2409000072/blob/main/assigniment%2023.ipynb\" target=\"_parent\"><img src=\"https://colab.research.google.com/assets/colab-badge.svg\" alt=\"Open In Colab\"/></a>"
      ]
    },
    {
      "cell_type": "code",
      "execution_count": null,
      "metadata": {
        "colab": {
          "base_uri": "https://localhost:8080/"
        },
        "id": "TycmQ7gCRkMH",
        "outputId": "2a780b7d-3bec-4461-b9c2-02e53ed436f8"
      },
      "outputs": [
        {
          "output_type": "stream",
          "name": "stdout",
          "text": [
            "\n",
            "--- Checking Websites ---\n",
            "✅ Website https://uok.ac.rw is up (Status: 200)\n",
            "✅ Website https://example.com is up (Status: 200)\n",
            "✅ Website https://another-site.com is up (Status: 200)\n",
            "\n",
            "--- Checking Websites ---\n",
            "✅ Website https://uok.ac.rw is up (Status: 200)\n",
            "✅ Website https://example.com is up (Status: 200)\n",
            "✅ Website https://another-site.com is up (Status: 200)\n",
            "\n",
            "--- Checking Websites ---\n",
            "✅ Website https://uok.ac.rw is up (Status: 200)\n",
            "✅ Website https://example.com is up (Status: 200)\n",
            "✅ Website https://another-site.com is up (Status: 200)\n",
            "\n",
            "--- Checking Websites ---\n",
            "✅ Website https://uok.ac.rw is up (Status: 200)\n",
            "✅ Website https://example.com is up (Status: 200)\n",
            "✅ Website https://another-site.com is up (Status: 200)\n",
            "\n",
            "--- Checking Websites ---\n",
            "✅ Website https://uok.ac.rw is up (Status: 200)\n",
            "✅ Website https://example.com is up (Status: 200)\n",
            "✅ Website https://another-site.com is up (Status: 200)\n"
          ]
        }
      ],
      "source": [
        "import requests\n",
        "import time\n",
        "import datetime\n",
        "import smtplib\n",
        "from email.mime.text import MIMEText\n",
        "\n",
        "# List of URLs to monitor\n",
        "URLS = [\"https://uok.ac.rw\", \"https://example.com\", \"https://another-site.com\"]\n",
        "\n",
        "# Email configuration\n",
        "SMTP_SERVER = \"smtp.gmail.com\"\n",
        "SMTP_PORT = 465\n",
        "EMAIL_SENDER = \"your_email@gmail.com\"\n",
        "EMAIL_PASSWORD = \"your_app_password\"  # Use App Passwords for better security\n",
        "EMAIL_RECEIVER = \"alert_recipient@gmail.com\"\n",
        "\n",
        "# Log file path\n",
        "LOG_FILE = \"website_status_log.txt\"\n",
        "\n",
        "def check_website(url):\n",
        "    \"\"\"Check if a website is reachable.\"\"\"\n",
        "    try:\n",
        "        response = requests.get(url, timeout=5)\n",
        "        if response.status_code == 200:\n",
        "            return f\"✅ Website {url} is up (Status: {response.status_code})\"\n",
        "        else:\n",
        "            log_failure(url, response.status_code)\n",
        "            send_email_alert(url, response.status_code)\n",
        "            return f\"⚠️ Website {url} returned status {response.status_code}\"\n",
        "    except requests.exceptions.RequestException:\n",
        "        log_failure(url, \"DOWN\")\n",
        "        send_email_alert(url, \"DOWN\")\n",
        "        return f\"❌ Website {url} is unreachable.\"\n",
        "\n",
        "def send_email_alert(url, status):\n",
        "    \"\"\"Send an email alert if a website goes down.\"\"\"\n",
        "    subject = f\"🚨 Website Down Alert: {url}\"\n",
        "    message = f\"Website {url} is DOWN (Status: {status}). Please check immediately.\"\n",
        "\n",
        "    msg = MIMEText(message)\n",
        "    msg[\"Subject\"] = subject\n",
        "    msg[\"From\"] = EMAIL_SENDER\n",
        "    msg[\"To\"] = EMAIL_RECEIVER\n",
        "\n",
        "    try:\n",
        "        with smtplib.SMTP_SSL(SMTP_SERVER, SMTP_PORT) as server:\n",
        "            server.login(EMAIL_SENDER, EMAIL_PASSWORD)\n",
        "            server.sendmail(EMAIL_SENDER, EMAIL_RECEIVER, msg.as_string())\n",
        "        print(f\"📧 Alert sent for {url}\")\n",
        "    except Exception as e:\n",
        "        print(f\"⚠️ Failed to send email: {e}\")\n",
        "\n",
        "def log_failure(url, status):\n",
        "    \"\"\"Log website failures for analysis.\"\"\"\n",
        "    timestamp = datetime.datetime.now().strftime(\"%Y-%m-%d %H:%M:%S\")\n",
        "    with open(LOG_FILE, \"a\") as f:\n",
        "        f.write(f\"{timestamp} - {url} - {status}\\n\")\n",
        "\n",
        "def monitor_websites():\n",
        "    \"\"\"Run website checks periodically (every 5 minutes).\"\"\"\n",
        "    while True:\n",
        "        print(\"\\n--- Checking Websites ---\")\n",
        "        for url in URLS:\n",
        "            print(check_website(url))\n",
        "        time.sleep(300)  # Wait 5 minutes before the next check\n",
        "\n",
        "# Run the monitoring function\n",
        "monitor_websites()"
      ]
    }
  ]
}
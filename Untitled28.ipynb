{
  "nbformat": 4,
  "nbformat_minor": 0,
  "metadata": {
    "colab": {
      "provenance": [],
      "authorship_tag": "ABX9TyNS/rKUWKbbZkbbywxMqpj9",
      "include_colab_link": true
    },
    "kernelspec": {
      "name": "python3",
      "display_name": "Python 3"
    },
    "language_info": {
      "name": "python"
    }
  },
  "cells": [
    {
      "cell_type": "markdown",
      "metadata": {
        "id": "view-in-github",
        "colab_type": "text"
      },
      "source": [
        "<a href=\"https://colab.research.google.com/github/jackson545/kayiranga-jackson-2409000072/blob/main/Untitled28.ipynb\" target=\"_parent\"><img src=\"https://colab.research.google.com/assets/colab-badge.svg\" alt=\"Open In Colab\"/></a>"
      ]
    },
    {
      "cell_type": "code",
      "execution_count": 1,
      "metadata": {
        "colab": {
          "base_uri": "https://localhost:8080/",
          "height": 106
        },
        "id": "gyxZJeGjm-0o",
        "outputId": "43251918-cc9e-419d-abf1-682f8a58979c"
      },
      "outputs": [
        {
          "output_type": "error",
          "ename": "SyntaxError",
          "evalue": "invalid non-printable character U+202F (<ipython-input-1-8ebf6cb5b26f>, line 10)",
          "traceback": [
            "\u001b[0;36m  File \u001b[0;32m\"<ipython-input-1-8ebf6cb5b26f>\"\u001b[0;36m, line \u001b[0;32m10\u001b[0m\n\u001b[0;31m    Thu, Feb 20, 8:28 PM (5 days ago)\u001b[0m\n\u001b[0m                     ^\u001b[0m\n\u001b[0;31mSyntaxError\u001b[0m\u001b[0;31m:\u001b[0m invalid non-printable character U+202F\n"
          ]
        }
      ],
      "source": [
        "Conversation opened. 1 read message.\n",
        "\n",
        "Skip to content\n",
        "Using Gmail with screen readers\n",
        "2 of 887\n",
        "# List of offensive words offensive_words = [ \"inyenzi\", \"cockroaches\", \"kill\", \"exterminate\", \"destroy\", \"traitors\", \"snakes\", \"rats\", \"hutu power\", \"tutsi\", \"ethnic cleansing\", \"wipe out\", \"enemy\", \"revenge\", \"impurity\", \"traitors\", \"infiltrators\", \"parasites\" ] # Function to detect hate speech def detect_hate_speech(text): detected_words = [word for word in offensive_words if word in text.lower()] return detected_words # Example usage text = \"The Tutsis are like cockroaches, they must be exterminated, they must be killed, and we, the Hutus, will be the ones to do it. We must carry out our revolution, and the revolution is to eliminate the Tutsi. If we do not kill them, they will kill us. There are no more excuses. We must be like the grasshoppers and finish off the cockroaches. We must get rid of them.”\" hate_words = detect_hate_speech(text) if hate_words: print(\"Hate speech detected! Offensive words:\", hate_words) else: print(\"No hate speech d.\n",
        "Inbox\n",
        "\n",
        "niyonkuru fabrice <fabriceniyonkuru385@gmail.com>\n",
        "Thu, Feb 20, 8:28 PM (5 days ago)\n",
        "to me\n",
        "\n",
        "\n"
      ]
    }
  ]
}
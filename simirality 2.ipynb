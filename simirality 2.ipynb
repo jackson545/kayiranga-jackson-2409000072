{
  "nbformat": 4,
  "nbformat_minor": 0,
  "metadata": {
    "colab": {
      "provenance": [],
      "authorship_tag": "ABX9TyOFaGm4dVsdg15CRKRd7X/B",
      "include_colab_link": true
    },
    "kernelspec": {
      "name": "python3",
      "display_name": "Python 3"
    },
    "language_info": {
      "name": "python"
    }
  },
  "cells": [
    {
      "cell_type": "markdown",
      "metadata": {
        "id": "view-in-github",
        "colab_type": "text"
      },
      "source": [
        "<a href=\"https://colab.research.google.com/github/jackson545/kayiranga-jackson-2409000072/blob/main/simirality%202.ipynb\" target=\"_parent\"><img src=\"https://colab.research.google.com/assets/colab-badge.svg\" alt=\"Open In Colab\"/></a>"
      ]
    },
    {
      "cell_type": "code",
      "execution_count": 12,
      "metadata": {
        "colab": {
          "base_uri": "https://localhost:8080/"
        },
        "id": "bqAZU_cHR-dC",
        "outputId": "bad1d9a3-4844-4abe-bd12-58c06dc92119"
      },
      "outputs": [
        {
          "output_type": "stream",
          "name": "stdout",
          "text": [
            "similarity: 0.64\n",
            "common words: {'is', 'systematic', 'the', 'of', 'post', 'study', 'history'}\n"
          ]
        }
      ],
      "source": [
        "def jaccard_similarity(text1,text2):\n",
        "  set1= set(text1.split())\n",
        "  set2= set(text2.split())\n",
        "\n",
        "  intersection = set1.intersection(set2)\n",
        "  union = set1.union(set2)\n",
        "\n",
        "  similarity  = len(intersection)/ len(union)\n",
        "\n",
        "  return similarity, intersection\n",
        "\n",
        "text1 = \"history is systematic study of the post\"\n",
        "text2 = \"history is systematic study of the post this just for practice\"\n",
        "\n",
        "similarity, common_words = jaccard_similarity(text1, text2)\n",
        "\n",
        "print(f\"similarity: {similarity:.2f}\")\n",
        "print(f\"common words: {common_words}\")\n",
        "\n"
      ]
    },
    {
      "cell_type": "code",
      "source": [
        "!pip install cryptography\n",
        "\n",
        "from cryptography.fernet import Fernet\n",
        "key = Fernet.generate_key()\n",
        "fernet = Fernet(key)\n",
        "message1 = \"First name\"\n",
        "message2= \"kayiranga\"\n",
        "encrypted_message1 = fernet.encrypt(message1.encode())\n",
        "decrypted_message1 =fernet.decrypt(encrypted_message1)\n",
        "encrypted_message2 = fernet.encrypt(message2.encode())\n",
        "decrypted_message2 =fernet.decrypt(encrypted_message2)\n",
        "print(decrypted_message1.decode())\n",
        "print(decrypted_message2.decode())"
      ],
      "metadata": {
        "colab": {
          "base_uri": "https://localhost:8080/"
        },
        "id": "pDOM8kSAoRi1",
        "outputId": "799aa070-7cc3-41a5-fb69-7d16af89e188"
      },
      "execution_count": 13,
      "outputs": [
        {
          "output_type": "stream",
          "name": "stdout",
          "text": [
            "Requirement already satisfied: cryptography in /usr/local/lib/python3.11/dist-packages (43.0.3)\n",
            "Requirement already satisfied: cffi>=1.12 in /usr/local/lib/python3.11/dist-packages (from cryptography) (1.17.1)\n",
            "Requirement already satisfied: pycparser in /usr/local/lib/python3.11/dist-packages (from cffi>=1.12->cryptography) (2.22)\n",
            "First name\n",
            "kayiranga\n"
          ]
        }
      ]
    },
    {
      "cell_type": "code",
      "source": [
        "!pip install cryptography\n"
      ],
      "metadata": {
        "colab": {
          "base_uri": "https://localhost:8080/"
        },
        "id": "sXq1JbpLo-Je",
        "outputId": "78982de7-caa4-4444-f8ec-8cdf49b4afa0"
      },
      "execution_count": 14,
      "outputs": [
        {
          "output_type": "stream",
          "name": "stdout",
          "text": [
            "Requirement already satisfied: cryptography in /usr/local/lib/python3.11/dist-packages (43.0.3)\n",
            "Requirement already satisfied: cffi>=1.12 in /usr/local/lib/python3.11/dist-packages (from cryptography) (1.17.1)\n",
            "Requirement already satisfied: pycparser in /usr/local/lib/python3.11/dist-packages (from cffi>=1.12->cryptography) (2.22)\n"
          ]
        }
      ]
    },
    {
      "cell_type": "code",
      "source": [
        "from cryptography.fernet import Fernet\n",
        "key = Fernet.generate_key()\n",
        "fernet = Fernet(key)\n",
        "message1 = \"First name\"\n",
        "message2= \"kayiranga\"\n",
        "encrypted_message1 = fernet.encrypt(message1.encode())\n",
        "decrypted_message1 =fernet.decrypt(encrypted_message1)\n",
        "encrypted_message2 = fernet.encrypt(message2.encode())\n",
        "decrypted_message2 =fernet.decrypt(encrypted_message2)\n",
        "print(decrypted_message1.decode())\n",
        "print(decrypted_message2.decode())"
      ],
      "metadata": {
        "colab": {
          "base_uri": "https://localhost:8080/"
        },
        "id": "3EnitTWWpIrl",
        "outputId": "07e140c7-0d77-4936-c369-aa90f5bc6655"
      },
      "execution_count": 15,
      "outputs": [
        {
          "output_type": "stream",
          "name": "stdout",
          "text": [
            "First name\n",
            "kayiranga\n"
          ]
        }
      ]
    }
  ]
}
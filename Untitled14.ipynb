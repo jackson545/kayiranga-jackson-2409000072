{
  "nbformat": 4,
  "nbformat_minor": 0,
  "metadata": {
    "colab": {
      "provenance": [],
      "authorship_tag": "ABX9TyNoismDdlAgkIt/+bSwaFMH",
      "include_colab_link": true
    },
    "kernelspec": {
      "name": "python3",
      "display_name": "Python 3"
    },
    "language_info": {
      "name": "python"
    }
  },
  "cells": [
    {
      "cell_type": "markdown",
      "metadata": {
        "id": "view-in-github",
        "colab_type": "text"
      },
      "source": [
        "<a href=\"https://colab.research.google.com/github/jackson545/kayiranga-jackson-2409000072/blob/main/Untitled14.ipynb\" target=\"_parent\"><img src=\"https://colab.research.google.com/assets/colab-badge.svg\" alt=\"Open In Colab\"/></a>"
      ]
    },
    {
      "cell_type": "code",
      "execution_count": 1,
      "metadata": {
        "id": "UvoMaTcPHa5a"
      },
      "outputs": [],
      "source": [
        "import random"
      ]
    },
    {
      "cell_type": "code",
      "source": [
        "customers = [{'name':'kayitare','phone':'camon','price':150000},\n",
        " {'name':'kwizera','phone':'spack','price':140000},\n",
        " {'name':'alice','phone':'pop','price':120000}]\n",
        " promotion_winer(customers):\n",
        "\n",
        " return[winer for winer in customers if winer[price]>=145000]\n",
        " print('promotion winer is :',promotion_winer(customers))"
      ],
      "metadata": {
        "colab": {
          "base_uri": "https://localhost:8080/",
          "height": 106
        },
        "id": "10zTN4nNH96R",
        "outputId": "49239c55-4fbf-4e66-b557-85d1bacb7197"
      },
      "execution_count": 4,
      "outputs": [
        {
          "output_type": "error",
          "ename": "IndentationError",
          "evalue": "unexpected indent (<ipython-input-4-989838628812>, line 4)",
          "traceback": [
            "\u001b[0;36m  File \u001b[0;32m\"<ipython-input-4-989838628812>\"\u001b[0;36m, line \u001b[0;32m4\u001b[0m\n\u001b[0;31m    promotion_winer(customers):\u001b[0m\n\u001b[0m    ^\u001b[0m\n\u001b[0;31mIndentationError\u001b[0m\u001b[0;31m:\u001b[0m unexpected indent\n"
          ]
        }
      ]
    },
    {
      "cell_type": "code",
      "source": [
        "customers = [{'name':'kayitare','phone':'camon','price':150000},\n",
        " {'name':'kwizera','phone':'spack','price':140000},\n",
        " {'name':'alice','phone':'pop','price':120000}]\n",
        " promotion_winer(customers):\n",
        "\n",
        " return[winer for winer in customers if winer[price]>=145000]\n",
        " print('promotion winer is :',promotion_winer(customers))"
      ],
      "metadata": {
        "colab": {
          "base_uri": "https://localhost:8080/",
          "height": 106
        },
        "id": "zhFDvKKaLww9",
        "outputId": "58e4af76-2e42-4651-c261-7cc39f2e6b9f"
      },
      "execution_count": 5,
      "outputs": [
        {
          "output_type": "error",
          "ename": "IndentationError",
          "evalue": "unexpected indent (<ipython-input-5-989838628812>, line 4)",
          "traceback": [
            "\u001b[0;36m  File \u001b[0;32m\"<ipython-input-5-989838628812>\"\u001b[0;36m, line \u001b[0;32m4\u001b[0m\n\u001b[0;31m    promotion_winer(customers):\u001b[0m\n\u001b[0m    ^\u001b[0m\n\u001b[0;31mIndentationError\u001b[0m\u001b[0;31m:\u001b[0m unexpected indent\n"
          ]
        }
      ]
    },
    {
      "cell_type": "code",
      "source": [
        "customers = [{'name':'kayitare','phone':'camon','price':150000},\n",
        " {'name':'kwizera','phone':'spack','price':140000},\n",
        " {'name':'alice','phone':'pop','price':120000}]\n",
        "\n",
        "def promotion_winer(customers):\n",
        "    # The code within the function should be indented\n",
        "    return [winer for winer in customers if winer['price']>=145000]\n",
        "\n",
        "print('promotion winer is :',promotion_winer(customers))"
      ],
      "metadata": {
        "colab": {
          "base_uri": "https://localhost:8080/"
        },
        "id": "AXJ11dKfL8Vx",
        "outputId": "bddcce23-4fcd-49e3-f2b6-5088d8cd710a"
      },
      "execution_count": 6,
      "outputs": [
        {
          "output_type": "stream",
          "name": "stdout",
          "text": [
            "promotion winer is : [{'name': 'kayitare', 'phone': 'camon', 'price': 150000}]\n"
          ]
        }
      ]
    }
  ]
}
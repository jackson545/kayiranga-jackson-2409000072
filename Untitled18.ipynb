{
  "nbformat": 4,
  "nbformat_minor": 0,
  "metadata": {
    "colab": {
      "provenance": [],
      "authorship_tag": "ABX9TyMMoD/9QvZjz/1SkU+v/N1r",
      "include_colab_link": true
    },
    "kernelspec": {
      "name": "python3",
      "display_name": "Python 3"
    },
    "language_info": {
      "name": "python"
    }
  },
  "cells": [
    {
      "cell_type": "markdown",
      "metadata": {
        "id": "view-in-github",
        "colab_type": "text"
      },
      "source": [
        "<a href=\"https://colab.research.google.com/github/jackson545/kayiranga-jackson-2409000072/blob/main/Untitled18.ipynb\" target=\"_parent\"><img src=\"https://colab.research.google.com/assets/colab-badge.svg\" alt=\"Open In Colab\"/></a>"
      ]
    },
    {
      "cell_type": "code",
      "execution_count": null,
      "metadata": {
        "id": "0hmDQzWUYpAb"
      },
      "outputs": [],
      "source": [
        "import pandas as pd\n",
        "\n",
        "#difene phishing keyword\n",
        "phishing_keyword = [\"urgent\", \"passsword resent\",\"bank\",\"verify\",\"account suspenede\" ]\n",
        "#these are words commonly found in phishing email.\n",
        "#the script will chech if an email contoins any these words.\n",
        "\n",
        "#load the dataset (uploaded file)\n",
        "email=pd.read_csv(\"/content/emails.csv\")\n",
        "#check if the 'content' exists\n",
        "if'content'not in email .colum\n"
      ]
    }
  ]
}
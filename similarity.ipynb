{
  "nbformat": 4,
  "nbformat_minor": 0,
  "metadata": {
    "colab": {
      "provenance": [],
      "authorship_tag": "ABX9TyONye31MFvDDxCI2hCFfPHz",
      "include_colab_link": true
    },
    "kernelspec": {
      "name": "python3",
      "display_name": "Python 3"
    },
    "language_info": {
      "name": "python"
    }
  },
  "cells": [
    {
      "cell_type": "markdown",
      "metadata": {
        "id": "view-in-github",
        "colab_type": "text"
      },
      "source": [
        "<a href=\"https://colab.research.google.com/github/jackson545/kayiranga-jackson-2409000072/blob/main/similarity.ipynb\" target=\"_parent\"><img src=\"https://colab.research.google.com/assets/colab-badge.svg\" alt=\"Open In Colab\"/></a>"
      ]
    },
    {
      "cell_type": "code",
      "execution_count": 11,
      "metadata": {
        "colab": {
          "base_uri": "https://localhost:8080/"
        },
        "id": "tnxsAFc3eox5",
        "outputId": "22b2324a-da24-4991-9bbf-82f58180b611"
      },
      "outputs": [
        {
          "output_type": "stream",
          "name": "stdout",
          "text": [
            "similarity:0.27\n",
            "common words:{'text', 'is', 'this'}\n"
          ]
        }
      ],
      "source": [
        "def jaccard_similarity(text1,text2):\n",
        "   set1 = set(text1.split())\n",
        "   set2 = set(text2.split())\n",
        "\n",
        "   intersection = set1.intersection(set2)\n",
        "   union = set1.union(set2)\n",
        "\n",
        "   simirality=len(intersection)/len(union)\n",
        "\n",
        "   return similarity, intersection\n",
        "\n",
        "text1= \"this is sample text about isssue.\"\n",
        "text2= \"this is text discussed leagal issue in computing\"\n",
        "\n",
        "similarity, common_words=jaccard_similarity(text1,text2)\n",
        "\n",
        "print(f\"similarity:{similarity:.2f}\")\n",
        "print(f\"common words:{common_words}\")\n",
        "\n"
      ]
    },
    {
      "cell_type": "code",
      "source": [
        "def jaccard_similarity(text1, text2):\n",
        "    set1 = set(text1.split())\n",
        "    set2 = set(text2.split())\n",
        "\n",
        "    intersection = set1.intersection(set2)\n",
        "    union = set1.union(set2)\n",
        "\n",
        "    similarity = len(intersection) / len(union)  # Corrected the typo here\n",
        "\n",
        "    return similarity, intersection\n",
        "\n",
        "text1 = \"this is sample text about issue.\"\n",
        "text2 = \"this is text discussed legal issue in computing\"\n",
        "\n",
        "similarity, common_words = jaccard_similarity(text1, text2)\n",
        "\n",
        "print(f\"similarity: {similarity:.2f}\")\n",
        "print(f\"common words: {common_words}\")"
      ],
      "metadata": {
        "colab": {
          "base_uri": "https://localhost:8080/"
        },
        "id": "3Woin7XnjqHO",
        "outputId": "008df5d6-1174-441e-83e2-b3f82a3d3ff6"
      },
      "execution_count": 9,
      "outputs": [
        {
          "output_type": "stream",
          "name": "stdout",
          "text": [
            "similarity: 0.27\n",
            "common words: {'text', 'is', 'this'}\n"
          ]
        }
      ]
    }
  ]
}
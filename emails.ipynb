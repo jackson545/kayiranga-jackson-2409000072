{
  "nbformat": 4,
  "nbformat_minor": 0,
  "metadata": {
    "colab": {
      "provenance": [],
      "include_colab_link": true
    },
    "kernelspec": {
      "name": "python3",
      "display_name": "Python 3"
    },
    "language_info": {
      "name": "python"
    }
  },
  "cells": [
    {
      "cell_type": "markdown",
      "metadata": {
        "id": "view-in-github",
        "colab_type": "text"
      },
      "source": [
        "<a href=\"https://colab.research.google.com/github/jackson545/kayiranga-jackson-2409000072/blob/main/emails.ipynb\" target=\"_parent\"><img src=\"https://colab.research.google.com/assets/colab-badge.svg\" alt=\"Open In Colab\"/></a>"
      ]
    },
    {
      "cell_type": "code",
      "execution_count": 10,
      "metadata": {
        "colab": {
          "base_uri": "https://localhost:8080/"
        },
        "id": "v6fnTzy0Feuw",
        "outputId": "c9991a25-b424-474c-9f25-b4a94f7e6246"
      },
      "outputs": [
        {
          "output_type": "stream",
          "name": "stdout",
          "text": [
            "Phishing detection complete. ✅\n"
          ]
        }
      ],
      "source": [
        "import pandas as pd\n",
        "phishing_keywords = [\"urgent\", \"password reset\", \"bank\", \"verify\", \"account suspended\"]\n",
        "\n",
        "emails = pd.read_csv(\"/content/email_exercises - emails_exercises.csv\")\n",
        "if 'Content' in emails.columns:\n",
        "  emails['is_phishing'] = emails['Content'].apply(\n",
        "      lambda x: any(keyword in str(x).lower() for keyword in phishing_keywords)\n",
        "  )\n",
        "  emails.to_csv(\"/content/2409000072.csv\", index=False)\n",
        "  print(\"Phishing detection complete. ✅\")\n",
        "else:\n",
        "  print(\"Error: The 'content' column is missing from the dataset.\")\n",
        "\n"
      ]
    }
  ]
}
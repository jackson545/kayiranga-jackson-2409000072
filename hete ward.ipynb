{
  "nbformat": 4,
  "nbformat_minor": 0,
  "metadata": {
    "colab": {
      "provenance": [],
      "authorship_tag": "ABX9TyO253O7OxIJApfFOiufMvsL",
      "include_colab_link": true
    },
    "kernelspec": {
      "name": "python3",
      "display_name": "Python 3"
    },
    "language_info": {
      "name": "python"
    }
  },
  "cells": [
    {
      "cell_type": "markdown",
      "metadata": {
        "id": "view-in-github",
        "colab_type": "text"
      },
      "source": [
        "<a href=\"https://colab.research.google.com/github/jackson545/kayiranga-jackson-2409000072/blob/main/hete%20ward.ipynb\" target=\"_parent\"><img src=\"https://colab.research.google.com/assets/colab-badge.svg\" alt=\"Open In Colab\"/></a>"
      ]
    },
    {
      "cell_type": "code",
      "execution_count": 33,
      "metadata": {
        "colab": {
          "base_uri": "https://localhost:8080/"
        },
        "id": "BnU_2GjokWJK",
        "outputId": "770381c9-3e6c-4666-8969-e3880de213f5"
      },
      "outputs": [
        {
          "output_type": "stream",
          "name": "stdout",
          "text": [
            "Hate speech detected! Offensive words: ['tutsi']\n"
          ]
        }
      ],
      "source": [
        "offensive_words = [\"tutsi\", \"racist\", \"sexist\", \"attack\", \"violence\"]\n",
        "\n",
        "# Function to detect hate speech\n",
        "def detect_hate_speech(text):\n",
        "    detected_words = [word for word in offensive_words if word in text.lower()]\n",
        "    return detected_words\n",
        "\n",
        "# Example usage\n",
        "text = \"the tutsi like corkroaches, they must be externinateted, they mustkilled,and we, the hut.\"\n",
        "\n",
        "detected_words = detect_hate_speech(text)\n",
        "\n",
        "if detected_words:\n",
        "    print(\"Hate speech detected! Offensive words:\", detected_words)\n",
        "else:\n",
        "    print(\"No hate speech detected.\")"
      ]
    }
  ]
}